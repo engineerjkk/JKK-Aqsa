{
  "nbformat": 4,
  "nbformat_minor": 0,
  "metadata": {
    "colab": {
      "name": "kmu_lineDetection.ipynb",
      "provenance": [],
      "collapsed_sections": []
    },
    "kernelspec": {
      "name": "python3",
      "display_name": "Python 3"
    },
    "language_info": {
      "name": "python"
    }
  },
  "cells": [
    {
      "cell_type": "code",
      "metadata": {
        "colab": {
          "base_uri": "https://localhost:8080/"
        },
        "id": "GA8OjSWPW_Nz",
        "outputId": "92743878-9891-4521-99a0-00e69ccc295b"
      },
      "source": [
        "from google.colab import drive\n",
        "drive.mount('/content/drive')"
      ],
      "execution_count": 22,
      "outputs": [
        {
          "output_type": "stream",
          "text": [
            "Drive already mounted at /content/drive; to attempt to forcibly remount, call drive.mount(\"/content/drive\", force_remount=True).\n"
          ],
          "name": "stdout"
        }
      ]
    },
    {
      "cell_type": "code",
      "metadata": {
        "colab": {
          "base_uri": "https://localhost:8080/"
        },
        "id": "XZ1QQ-ZcXAFh",
        "outputId": "5776a971-4eaa-43b6-ece1-c3dacfb8bb03"
      },
      "source": [
        "%cd /content/drive/MyDrive/Autonomous-AI/Day1/1_07_CV_LineDetection/kmu_LineDetection/"
      ],
      "execution_count": 23,
      "outputs": [
        {
          "output_type": "stream",
          "text": [
            "/content/drive/MyDrive/Autonomous-AI/Day1/1_07_CV_LineDetection/kmu_LineDetection\n"
          ],
          "name": "stdout"
        }
      ]
    },
    {
      "cell_type": "code",
      "metadata": {
        "id": "YclaOYN5XAHw"
      },
      "source": [
        "import cv2\n",
        "import numpy as np\n",
        "import os\n",
        "from scipy import optimize\n",
        "from matplotlib import pyplot as plt, cm, colors\n",
        "from google.colab.patches import cv2_imshow\n",
        "\n",
        "ym_per_pix = 30 / 720\n",
        "xm_per_pix = 3.7 / 720\n",
        "\n",
        "cap = cv2.VideoCapture('/content/drive/MyDrive/Autonomous-AI/Day1/1_07_CV_LineDetection/kmu_LineDetection/kmu_track.avi')\n",
        "\n",
        "fourcc = cv2.VideoWriter_fourcc(*'DIVX') \n",
        "out = cv2.VideoWriter('/content/drive/MyDrive/Autonomous-AI/Day1/1_07_CV_LineDetection/kmu_LineDetection/kmutrack_output.avi', fourcc, 20.0, (640, 480))\n",
        "\n",
        "def processImage(inpImage):\n",
        "    inpImage = cv2.cvtColor(inpImage, cv2.COLOR_BGR2GRAY)\n",
        "    blur = cv2.GaussianBlur(inpImage, (5, 5), 0)\n",
        "    canny = cv2.Canny(blur, 60, 200)\n",
        "\n",
        "    return canny\n",
        "\n",
        "def perspectiveWarp(inpImage):\n",
        "    img_size = (inpImage.shape[1], inpImage.shape[0])\n",
        "\n",
        "    src = np.float32([[100, 300],\n",
        "                      [0, 460],\n",
        "                      [640, 460],\n",
        "                      [470, 300]])\n",
        "    dst = np.float32([[150, 0],\n",
        "                      [230, 455],\n",
        "                      [500, 455],\n",
        "                      [500, 0]])\n",
        "\n",
        "    matrix = cv2.getPerspectiveTransform(src, dst)\n",
        "\n",
        "    minv = cv2.getPerspectiveTransform(dst, src)\n",
        "    birdseye = cv2.warpPerspective(inpImage, matrix, img_size)\n",
        "\n",
        "    return birdseye, minv\n",
        "\n",
        "\n",
        "def slide_window_search(binary_warped):\n",
        "    out_img = np.dstack((binary_warped, binary_warped, binary_warped)) * 255\n",
        "    window_img = np.zeros_like(out_img)\n",
        "    midpoint = binary_warped.shape[1] // 2\n",
        "    histogram = np.sum(binary_warped[binary_warped.shape[0] // 2:, :], axis=0)\n",
        "    leftx_base = np.argmax(histogram[:3 * midpoint // 4])\n",
        "    rightx_base = np.argmax(histogram[3 * midpoint // 2:]) + 3 * midpoint // 2\n",
        "    for_mid_histogram = np.sum(binary_warped[:binary_warped.shape[0] // 2, :], axis=0)\n",
        "    left_middle_base = np.argmax(for_mid_histogram[:midpoint])\n",
        "    right_middle_base = np.argmax(for_mid_histogram[3 * midpoint // 2:]) + 3 * midpoint // 2\n",
        "\n",
        "    nwindows = 30\n",
        "    window_height = np.int(binary_warped.shape[0] / nwindows)\n",
        "    nonzero = binary_warped.nonzero()\n",
        "    nonzeroy = np.array(nonzero[0])\n",
        "    nonzerox = np.array(nonzero[1])\n",
        "    leftx_current = leftx_base\n",
        "    rightx_current = rightx_base\n",
        "\n",
        "    margin = 20\n",
        "    minpix = 5\n",
        "    minimal_window = 1\n",
        "    left_lane_inds = []\n",
        "    right_lane_inds = []\n",
        "\n",
        "    left_cnt_window, right_cnt_window = 0, 0\n",
        "\n",
        "    for window in range(nwindows):\n",
        "        if window == nwindows // 2:\n",
        "            leftx_current = leftx_current if left_cnt_window > minimal_window else left_middle_base\n",
        "            rightx_current = rightx_current if right_cnt_window > minimal_window else right_middle_base\n",
        "\n",
        "        win_y_low = binary_warped.shape[0] - (window + 1) * window_height\n",
        "        win_y_high = binary_warped.shape[0] - window * window_height\n",
        "        win_xleft_low = leftx_current - margin\n",
        "        win_xleft_high = leftx_current + margin\n",
        "        win_xright_low = rightx_current - margin\n",
        "        win_xright_high = rightx_current + margin\n",
        "\n",
        "        cv2.rectangle(out_img, (win_xleft_low, win_y_low), (win_xleft_high, win_y_high), (0, 255, 0), 2)\n",
        "        cv2.rectangle(out_img, (win_xright_low, win_y_low), (win_xright_high, win_y_high), (0, 255, 0), 2)\n",
        "\n",
        "        good_left_inds = ((nonzeroy >= win_y_low) & (nonzeroy < win_y_high) & (nonzerox >= win_xleft_low) & (\n",
        "                nonzerox < win_xleft_high)).nonzero()[0]\n",
        "        good_right_inds = ((nonzeroy >= win_y_low) & (nonzeroy < win_y_high) & (nonzerox >= win_xright_low) & (\n",
        "                nonzerox < win_xright_high)).nonzero()[0]\n",
        "\n",
        "        left_lane_inds.append(good_left_inds)\n",
        "        right_lane_inds.append(good_right_inds)\n",
        "\n",
        "        if len(good_left_inds) > minpix:\n",
        "            leftx_current = np.int(np.mean(nonzerox[good_left_inds]))\n",
        "            left_cnt_window += 1\n",
        "        else:\n",
        "            left_idx = win_y_high\n",
        "\n",
        "        if len(good_right_inds) > minpix:\n",
        "            rightx_current = np.int(np.mean(nonzerox[good_right_inds]))\n",
        "            right_cnt_window += 1\n",
        "        else:\n",
        "            right_idx = win_y_high\n",
        "\n",
        "    left_lane_inds = np.concatenate(left_lane_inds)\n",
        "    right_lane_inds = np.concatenate(right_lane_inds)\n",
        "\n",
        "    leftx = nonzerox[left_lane_inds]\n",
        "    lefty = nonzeroy[left_lane_inds]\n",
        "    rightx = nonzerox[right_lane_inds]\n",
        "    righty = nonzeroy[right_lane_inds]\n",
        "\n",
        "    out_img[lefty, leftx] = [255, 0, 0]\n",
        "    out_img[righty, rightx] = [0, 0, 255]\n",
        "\n",
        "    left_fit = [0, 0, 0]\n",
        "    right_fit = [0, 0, binary_warped.shape[1]]\n",
        "\n",
        "    if len(leftx) != 0 and len(lefty) != 0 and len(rightx) != 0 and len(righty) != 0:\n",
        "        if rightx.mean() - leftx.mean() > 320:\n",
        "            left_fit = np.polyfit(lefty, leftx, 2)\n",
        "            right_fit = np.polyfit(righty, rightx, 2)\n",
        "        else:\n",
        "            if left_cnt_window > right_cnt_window:\n",
        "                left_fit = np.polyfit(lefty, leftx, 2)\n",
        "            else:\n",
        "                right_fit = np.polyfit(righty, rightx, 2)\n",
        "\n",
        "    elif len(leftx) == 0 or len(lefty) == 0:\n",
        "        right_fit = np.polyfit(righty, rightx, 2)\n",
        "\n",
        "    elif len(rightx) == 0 or len(righty) == 0:\n",
        "        left_fit = np.polyfit(lefty, leftx, 2)\n",
        "\n",
        "    ploty = np.linspace(0, binary_warped.shape[0] - 1, binary_warped.shape[0])\n",
        "\n",
        "    left_fitx = left_fit[0] * ploty ** 2 + left_fit[1] * ploty + left_fit[2]\n",
        "    right_fitx = right_fit[0] * ploty ** 2 + right_fit[1] * ploty + right_fit[2]\n",
        "\n",
        "    for j in range(binary_warped.shape[0]):\n",
        "        if ploty[j] > left_idx:\n",
        "            left_fitx[j] = 0\n",
        "\n",
        "        if ploty[j] > right_idx:\n",
        "            right_fitx[j] = 640\n",
        "\n",
        "    left_line_window1 = np.array([np.transpose(np.vstack([left_fitx - margin, ploty]))])\n",
        "    left_line_window2 = np.array([np.flipud(np.transpose(np.vstack([left_fitx + margin, ploty])))])\n",
        "    left_line_pts = np.hstack((left_line_window1, left_line_window2))\n",
        "    right_line_window1 = np.array([np.transpose(np.vstack([right_fitx - margin, ploty]))])\n",
        "    right_line_window2 = np.array([np.flipud(np.transpose(np.vstack([right_fitx + margin, ploty])))])\n",
        "    right_line_pts = np.hstack((right_line_window1, right_line_window2))\n",
        "\n",
        "    cv2.fillPoly(window_img, np.int_([left_line_pts]), (255, 0, 0))\n",
        "    cv2.fillPoly(window_img, np.int_([right_line_pts]), (0, 255, 0))\n",
        "\n",
        "    result = cv2.addWeighted(out_img, 1, window_img, 0.3, 0)\n",
        "\n",
        "    ret = {}\n",
        "    ret['leftx'] = leftx\n",
        "    ret['rightx'] = rightx\n",
        "    ret['left_fitx'] = left_fitx\n",
        "    ret['right_fitx'] = right_fitx\n",
        "    ret['ploty'] = ploty\n",
        "\n",
        "    return ploty, left_fit, right_fit, ret\n",
        "\n",
        "\n",
        "def draw_lane_lines(original_image, warped_image, Minv, draw_info):\n",
        "    leftx = draw_info['leftx']\n",
        "    rightx = draw_info['rightx']\n",
        "    left_fitx = draw_info['left_fitx']\n",
        "    right_fitx = draw_info['right_fitx']\n",
        "    ploty = draw_info['ploty']\n",
        "\n",
        "    warp_zero = np.zeros_like(warped_image).astype(np.uint8)\n",
        "    color_warp = np.dstack((warp_zero, warp_zero, warp_zero))\n",
        "\n",
        "    pts_left = np.array([np.transpose(np.vstack([left_fitx, ploty]))])\n",
        "    pts_right = np.array([np.flipud(np.transpose(np.vstack([right_fitx, ploty])))])\n",
        "    pts = np.hstack((pts_left, pts_right))\n",
        "\n",
        "    mean_x = np.mean((left_fitx, right_fitx), axis=0)\n",
        "    pts_mean = np.array([np.flipud(np.transpose(np.vstack([mean_x, ploty])))])\n",
        "\n",
        "    cv2.fillPoly(color_warp, np.int_([pts]), (0, 255, 0))\n",
        "\n",
        "    newwarp = cv2.warpPerspective(color_warp, Minv, (original_image.shape[1], original_image.shape[0]))\n",
        "    result = cv2.addWeighted(original_image, 1, newwarp, 0.3, 0)\n",
        "\n",
        "    return pts_mean, result\n",
        "\n",
        "if __name__ == '__main__':\n",
        "    while (cap.isOpened()):\n",
        "        ret, frame = cap.read()\n",
        "        if ret:\n",
        "            try:\n",
        "                canny = processImage(frame)\n",
        "                birdView, minverse = perspectiveWarp(canny)\n",
        "                ploty, lfit, rfit, draw_info = slide_window_search(birdView)\n",
        "                meanPts, result = draw_lane_lines(frame, birdView, minverse, draw_info)\n",
        "\n",
        "            except:\n",
        "                continue\n",
        "\n",
        "            out.write(result)\n",
        "\n",
        "            if cv2.waitKey(1) & 0xFF == ord('q'):\n",
        "                break\n",
        "        else:\n",
        "            break\n",
        "\n",
        "    cap.release()\n",
        "    out.release()\n",
        "    cv2.destroyAllWindows()"
      ],
      "execution_count": null,
      "outputs": []
    },
    {
      "cell_type": "code",
      "metadata": {
        "id": "tzqdXgf_dDuA",
        "colab": {
          "base_uri": "https://localhost:8080/",
          "height": 17
        },
        "outputId": "f1edbd2d-8c29-4c8d-bf66-e14ea718a713"
      },
      "source": [
        "from google.colab import files\n",
        "files.download('/content/drive/MyDrive/Autonomous-AI/Day1/1_07_CV_LineDetection/kmu_LineDetection/kmutrack_output.avi')"
      ],
      "execution_count": null,
      "outputs": [
        {
          "output_type": "display_data",
          "data": {
            "application/javascript": [
              "\n",
              "    async function download(id, filename, size) {\n",
              "      if (!google.colab.kernel.accessAllowed) {\n",
              "        return;\n",
              "      }\n",
              "      const div = document.createElement('div');\n",
              "      const label = document.createElement('label');\n",
              "      label.textContent = `Downloading \"${filename}\": `;\n",
              "      div.appendChild(label);\n",
              "      const progress = document.createElement('progress');\n",
              "      progress.max = size;\n",
              "      div.appendChild(progress);\n",
              "      document.body.appendChild(div);\n",
              "\n",
              "      const buffers = [];\n",
              "      let downloaded = 0;\n",
              "\n",
              "      const channel = await google.colab.kernel.comms.open(id);\n",
              "      // Send a message to notify the kernel that we're ready.\n",
              "      channel.send({})\n",
              "\n",
              "      for await (const message of channel.messages) {\n",
              "        // Send a message to notify the kernel that we're ready.\n",
              "        channel.send({})\n",
              "        if (message.buffers) {\n",
              "          for (const buffer of message.buffers) {\n",
              "            buffers.push(buffer);\n",
              "            downloaded += buffer.byteLength;\n",
              "            progress.value = downloaded;\n",
              "          }\n",
              "        }\n",
              "      }\n",
              "      const blob = new Blob(buffers, {type: 'application/binary'});\n",
              "      const a = document.createElement('a');\n",
              "      a.href = window.URL.createObjectURL(blob);\n",
              "      a.download = filename;\n",
              "      div.appendChild(a);\n",
              "      a.click();\n",
              "      div.remove();\n",
              "    }\n",
              "  "
            ],
            "text/plain": [
              "<IPython.core.display.Javascript object>"
            ]
          },
          "metadata": {
            "tags": []
          }
        },
        {
          "output_type": "display_data",
          "data": {
            "application/javascript": [
              "download(\"download_61dab087-064a-4fcf-8630-88db753d80db\", \"kmutrack_output.avi\", 62954874)"
            ],
            "text/plain": [
              "<IPython.core.display.Javascript object>"
            ]
          },
          "metadata": {
            "tags": []
          }
        }
      ]
    }
  ]
}